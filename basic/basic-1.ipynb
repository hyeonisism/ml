{
 "cells": [
  {
   "cell_type": "code",
   "execution_count": null,
   "metadata": {
    "vscode": {
     "languageId": "shellscript"
    }
   },
   "outputs": [],
   "source": [
    "pip install pandas"
   ]
  },
  {
   "cell_type": "code",
   "execution_count": null,
   "metadata": {},
   "outputs": [],
   "source": [
    "# %%\n",
    "# pandas 는 pd가 naming rule\n",
    "import pandas as pd\n",
    "\n",
    "# 사용은 크게 dataframe, series 를 사용하는 것 같다\n",
    "# 인메모리 데이터베이스 처럼  쓰는 것 같네\n",
    "\n",
    "# Series에는 value와 index로 구분되는 데이터 객체인듯\n",
    "sr = pd.Series([\"안녕\", \"내\", \"청춘\"], index=[\"첫 단어\", \"둘째 단어\", \"셋째 단어\"])\n",
    "print(sr)\n",
    "\n",
    "\n",
    "print(\"*\"*50)\n",
    "\n",
    "# DataFrame은 column 이라는 것 까지 추가가 됨\n",
    "value = [[1,2,3], [4,5,6], [7,8,9]]\n",
    "index = [\"first\", \"second\", \"third\"]\n",
    "column = [\"a\",\"b\",\"c\"]\n",
    "\n",
    "df = pd.DataFrame(value, index = index, columns = column)\n",
    "\n",
    "print(df)"
   ]
  },
  {
   "cell_type": "code",
   "execution_count": null,
   "metadata": {
    "vscode": {
     "languageId": "shellscript"
    }
   },
   "outputs": [],
   "source": [
    "pip install numpy\n"
   ]
  },
  {
   "cell_type": "code",
   "execution_count": null,
   "metadata": {},
   "outputs": [],
   "source": [
    "# %%\n",
    "# numpy는 np가 Naming rule\n",
    "import numpy as np\n",
    "\n",
    "# 얘는 벡터나 행렬 선형 대수 계산에서 쓰는 것 같다\n",
    "# 이게 머신러닝이랑 무슨 관계인지는 모르겠지만 ㅋㅋ\n",
    "\n",
    "vec = np.array([7,8,9])\n",
    "mat = np.array([[1,2,3],[4,5,6],[7,8,9]])\n",
    "\n",
    "print(mat)\n",
    "\n",
    "print(\"*\"*50)\n",
    "\n",
    "# numpy에는 축의 개수와 크기라는 개념이 존재하는데, 배열 크기를 숙지하는게 딥러닝에서 중요하다고 하네\n",
    "# 찍어보자\n",
    "print(\"벡터\")\n",
    "print(\"축의 개수\")\n",
    "print(vec.ndim) # 축의 개수 출력\n",
    "print(\"크기\")\n",
    "print(vec.shape) # 크기 출력\n",
    "print(\"*\"*50)\n",
    "print(\"매트릭\")\n",
    "print(\"축의 개수\")\n",
    "print(mat.ndim) # 축의 개수 출력\n",
    "print(\"크기\")\n",
    "print(mat.shape) # 크기 출력\n",
    "\n",
    "\n",
    "# 다르게 나오는데 이게 뭐여, 일단 넘어가자니까 Okay\n",
    "print(\"*\"*50)\n",
    "\n",
    "# 0으로 채우는 배열 만들기\n",
    "zero_mat = np.zeros((2,3))\n",
    "print(zero_mat)\n",
    "\n",
    "# 1로 채우는 배열 만들기\n",
    "one_mat = np.ones((2,3))\n",
    "print(one_mat)\n",
    "\n",
    "# 내가 지정한 값으로 채우기\n",
    "my_mat = np.full((4,4), 9)\n",
    "print(my_mat)\n",
    "\n",
    "# 대각선을 1로 만들기\n",
    "eye_mat = np.eye(3)\n",
    "print(eye_mat)\n",
    "\n",
    "# 랜덤으로 만들어버리기\n",
    "\n",
    "random_mat = np.random.random((2,2))\n",
    "print(random_mat)\n",
    "\n",
    "# 이제는 백터만들기\n",
    "# 순차로 증가하는 0-9 배열 만들기\n",
    "arange_vec = np.arange(10)\n",
    "print(arange_vec)\n",
    "\n",
    "# i부터 j-1까지 2씩 증가하는 배열만들기\n",
    "range_n_vector_step = np.arange(1,10,2)\n",
    "print(range_n_vector_step)\n",
    "\n",
    "# 벡터 구조 변경하기\n",
    "reshape_mat = np.arange(10).reshape(2,5)\n",
    "print(reshape_mat)\n",
    "\n",
    "# 슬라이싱 하기\n",
    "\n",
    "mat_a = np.array([[1,2,3],[4,5,6],])\n",
    "print(mat_a)\n",
    "print(\"hello world\")\n",
    "# 첫번째 행 출력\n",
    "print(mat_a[0,:])\n",
    "# 첫번째 열 출력\n",
    "print(mat_a[:,:1])\n",
    "\n",
    "\n",
    "# 인덱싱 하기\n",
    "mat = np.array([[1,2],[3,4],[5,6],[7,8]])\n",
    "print(mat)\n",
    "\n",
    "indexed_matric = mat[[0,1],[1,1]]\n",
    "print(indexed_matric)\n",
    "\n",
    "\n",
    "# 넘파이 연산\n",
    "\n",
    "x = np.array([1,2,3])\n",
    "y = np.array([4,5,6])\n",
    "\n",
    "print(x+y)\n",
    "print(x-y)\n",
    "print(x*y)\n",
    "print(x/y)\n",
    "\n",
    "# 벡터와 행렬곱하기\n",
    "mat1 = np.array([[1,2],[4,5]])\n",
    "mat2 = np.array([[1,2],[4,5]])\n",
    "mat3 = np.dot(mat1,mat2)\n",
    "print(mat3)"
   ]
  },
  {
   "cell_type": "code",
   "execution_count": null,
   "metadata": {
    "vscode": {
     "languageId": "shellscript"
    }
   },
   "outputs": [],
   "source": [
    "pip install matplotlib"
   ]
  },
  {
   "cell_type": "code",
   "execution_count": null,
   "metadata": {},
   "outputs": [],
   "source": [
    "\n",
    "# pyplot은 관례가 plt인가보다\n",
    "import matplotlib.pyplot as plt\n",
    "\n",
    "plt.title(\"data\")\n",
    "plt.plot([1,2,3,4],[2,4,8,6])\n",
    "plt.show()\n",
    "\n",
    "# 오 이거 신기하네 ㅋㅋ\n",
    "\n",
    "# pyplot은 관례가 plt인가보다\n",
    "import matplotlib.pyplot as plt\n",
    "\n",
    "# 축 레이블을 삽입 해보자\n",
    "plt.title(\"data\")\n",
    "plt.plot([1,2,3,4],[2,4,8,6])\n",
    "plt.xlabel(\"hours\")\n",
    "plt.ylabel(\"score\")\n",
    "plt.show()\n",
    "\n",
    "\n",
    "# 라인 추가와 범례를 삽입해보자\n",
    "plt.title(\"students\")\n",
    "plt.plot([1,2,3,4],[2,4,8,6])\n",
    "plt.plot([1.5,2.5,3.5,4.5],[3,5,8,10])\n",
    "plt.xlabel('hours')\n",
    "plt.ylabel('score')\n",
    "plt.legend(['A student', 'B student'])\n",
    "plt.show()\n",
    "\n"
   ]
  },
  {
   "cell_type": "markdown",
   "metadata": {},
   "source": [
    "# 간단 정리해보자\n",
    "# pandas < 얘는 그냥 데이터 프레임 만들고 벡터만들어주는 애\n",
    "# numpy < 위 데이터 프레임을 연산하고 데이터를 조립할 수 있게 해주는 애\n",
    "# matplotlib < 얘네들을 시각화해주는 애"
   ]
  }
 ],
 "metadata": {
  "language_info": {
   "name": "python"
  }
 },
 "nbformat": 4,
 "nbformat_minor": 2
}
